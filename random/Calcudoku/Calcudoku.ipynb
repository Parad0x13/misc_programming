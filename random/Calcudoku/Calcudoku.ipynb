{
 "cells": [
  {
   "cell_type": "code",
   "execution_count": 44,
   "metadata": {},
   "outputs": [
    {
     "name": "stdout",
     "output_type": "stream",
     "text": [
      "(1, 2)\n",
      "(1, 2)\n",
      "(1, 3)\n",
      "(1, 3)\n",
      "(1, 4)\n",
      "(1, 4)\n",
      "(2, 1)\n",
      "(2, 1)\n",
      "(2, 3)\n",
      "(2, 3)\n",
      "(2, 4)\n",
      "(2, 4)\n",
      "(3, 1)\n",
      "(3, 1)\n",
      "(3, 2)\n",
      "(3, 2)\n",
      "(3, 4)\n",
      "(3, 4)\n",
      "(4, 1)\n",
      "(4, 1)\n",
      "(4, 2)\n",
      "(4, 2)\n",
      "(4, 3)\n",
      "(4, 3)\n",
      "set()\n"
     ]
    }
   ],
   "source": [
    "import itertools\n",
    "import numpy as np\n",
    "\n",
    "# This doesn't find all values that work, specifically with duplicate number\n",
    "# I need to iterate this differently\n",
    "def findPotentialValues(boardN, goal, length, operation):\n",
    "    perms = itertools.permutations(np.arange(1, boardN + 1))\n",
    "\n",
    "    successful = set()\n",
    "    for item in perms:\n",
    "        values = item[:w]\n",
    "        total = values[0]\n",
    "        print(values)\n",
    "\n",
    "        if operation == \"+\":\n",
    "            for item in values[1:]:\n",
    "                total += item\n",
    "\n",
    "        if total == goal:\n",
    "            success = tuple(set(values))\n",
    "            successful.add(success)\n",
    "    print(successful)\n",
    "\n",
    "#findPotentialValues(4, 5, 2, \"+\")\n",
    "findPotentialValues(4, 8, 2, \"+\")"
   ]
  }
 ],
 "metadata": {
  "kernelspec": {
   "display_name": "Python 3",
   "language": "python",
   "name": "python3"
  },
  "language_info": {
   "codemirror_mode": {
    "name": "ipython",
    "version": 3
   },
   "file_extension": ".py",
   "mimetype": "text/x-python",
   "name": "python",
   "nbconvert_exporter": "python",
   "pygments_lexer": "ipython3",
   "version": "3.6.2"
  }
 },
 "nbformat": 4,
 "nbformat_minor": 2
}
